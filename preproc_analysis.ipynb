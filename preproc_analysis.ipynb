{
 "cells": [
  {
   "cell_type": "markdown",
   "metadata": {},
   "source": [
    "# Preprocessing Workflow\n",
    "\n",
    "This is meant as a very simple example for a preprocessing workflow. In this workflow we will conduct the following steps:\n",
    "\n",
    "1. Motion correction of functional images with FSL's MCFLIRT\n",
    "2. Coregistration of functional images to anatomical images (according to FSL's FEAT pipeline)\n",
    "3. Smoothing of coregistrated functional images with FWHM set to 4mm and 8mm\n",
    "4. Artifact Detection in functional images (to detect outlier volumes)"
   ]
  },
  {
   "cell_type": "code",
   "execution_count": null,
   "metadata": {},
   "outputs": [],
   "source": [
    "%%bash\n",
    "export SPM_PATH=/auto/k1/arash/spm12/\n",
    "export PATH=/auto/k1/arash/anaconda3/bin:$PATH\n",
    "export PATH=$PATH:/usr/share/fsl/5.0/bin;\n",
    "export FSLDIR=/usr/share/fsl;\n",
    "export LD_LIBRARY_PATH=/usr/lib/fsl/5.0;\n",
    ". ${FSLDIR}/5.0/etc/fslconf/fsl.sh;\n",
    "export FSLOUTPUTTYPE=NIFTI;"
   ]
  },
  {
   "cell_type": "markdown",
   "metadata": {},
   "source": [
    "## Imports\n",
    "\n",
    "First, let's import all modules we later will be needing."
   ]
  },
  {
   "cell_type": "code",
   "execution_count": null,
   "metadata": {},
   "outputs": [],
   "source": [
    "%pylab inline\n",
    "from os.path import join as opj\n",
    "from nipype.interfaces.fsl import MCFLIRT, FLIRT\n",
    "from nipype.interfaces.spm import Smooth\n",
    "from nipype.interfaces.utility import IdentityInterface\n",
    "from nipype.interfaces.io import SelectFiles, DataSink\n",
    "from nipype.pipeline.engine import Workflow, Node"
   ]
  },
  {
   "cell_type": "markdown",
   "metadata": {},
   "source": [
    "# Experiment parameters\n",
    "\n",
    "It's always a good idea to specify all parameters that might change between experiments at the beginning of your script."
   ]
  },
  {
   "cell_type": "code",
   "execution_count": null,
   "metadata": {},
   "outputs": [],
   "source": [
    "experiment_dir = '/auto/data/arash/output'\n",
    "output_dir = 'datasink'\n",
    "working_dir = 'workingdir'\n",
    "base_directory = '/auto/data/arash/data/ds000105'\n",
    "\n",
    "# list of subject identifiers\n",
    "subject_list = ['sub-1']\n",
    "\n",
    "\n",
    "# list of session identifiers\n",
    "task_list = ['objectviewing']\n",
    "\n",
    "\n",
    "# list of session identifiers\n",
    "session_list = ['run-01']\n",
    "#                 'run-02',\n",
    "#                 'run-03', 'run-04', 'run-05',\n",
    "#                 'run-06', 'run-07', 'run-08', 'run-09', 'run-10',\n",
    "#                 'run-11', 'run-12']\n",
    "\n",
    "# TR of functional images\n",
    "TR = 2.0\n",
    "\n",
    "# Smoothing withds used during preprocessing\n",
    "fwhm = [4]\n"
   ]
  },
  {
   "cell_type": "markdown",
   "metadata": {},
   "source": [
    "## Specify Nodes for the main workflow\n",
    "\n",
    "Initiate all the different interfaces (represented as nodes) that you want to use in your workflow."
   ]
  },
  {
   "cell_type": "code",
   "execution_count": null,
   "metadata": {},
   "outputs": [],
   "source": [
    "# MCFLIRT - motion correction\n",
    "# mcflirt = Node(MCFLIRT(mean_vol=True,\n",
    "#                        save_plots=True,\n",
    "#                        output_type='NIFTI'),\n",
    "#                name=\"mcflirt\")\n",
    "\n",
    "\n",
    "# FLIRT - coregister functional images to anatomical images\n",
    "coreg_step1 = Node(FLIRT(output_type='NIFTI'), name=\"coreg_step1\")\n",
    "coreg_step2 = Node(FLIRT(output_type='NIFTI',\n",
    "                         apply_xfm=True), name=\"coreg_step2\")\n",
    "\n",
    "# Smooth - image smoothing\n",
    "smooth = Node(Smooth(), name=\"smooth\")\n",
    "smooth.iterables = (\"fwhm\", fwhm)"
   ]
  },
  {
   "cell_type": "markdown",
   "metadata": {},
   "source": [
    "## Specify input & output stream\n",
    "\n",
    "Specify where the input data can be found & where and how to save the output data."
   ]
  },
  {
   "cell_type": "code",
   "execution_count": null,
   "metadata": {},
   "outputs": [],
   "source": [
    "# Infosource - a function free node to iterate over the list of subject names\n",
    "infosource = Node(IdentityInterface(fields=['subject_id', 'session_id']),\n",
    "                  name=\"infosource\")\n",
    "infosource.iterables = [('subject_id', subject_list),\n",
    "                        ('session_id', session_list)]\n",
    "\n",
    "# SelectFiles - to grab the data (alternativ to DataGrabber)\n",
    "anat_file = opj('{subject_id}', 'anat', '{subject_id}_T1w.nii.gz')\n",
    "func_file = opj('{subject_id}', 'func',\n",
    "                '{subject_id}_task-objectviewing_{session_id}_bold.nii.gz')\n",
    "\n",
    "templates = {'anat': anat_file,\n",
    "             'func': func_file}\n",
    "selectfiles = Node(SelectFiles(templates,\n",
    "                               base_directory=base_directory),\n",
    "                   name=\"selectfiles\")\n",
    "\n",
    "# Datasink - creates output folder for important outputs\n",
    "datasink = Node(DataSink(base_directory=experiment_dir,\n",
    "                         container=output_dir),\n",
    "                name=\"datasink\")\n",
    "\n",
    "# Use the following DataSink output substitutions\n",
    "substitutions = [('_subject_id', ''),\n",
    "                 ('_session_id_', ''),\n",
    "                 ('_task-flanker', ''),\n",
    "                 ('_mcf.nii_mean_reg', '_mean'),\n",
    "                 ('.nii.par', '.par'),\n",
    "                 ]\n",
    "subjFolders = [('%s_%s/' % (sess, sub), '%s/%s' % (sub, sess))\n",
    "               for sess in session_list\n",
    "               for sub in subject_list]\n",
    "subjFolders += [('%s_%s' % (sub, sess), '')\n",
    "                for sess in session_list\n",
    "                for sub in subject_list]\n",
    "subjFolders += [('%s%s_' % (sess, sub), '')\n",
    "                for sess in session_list\n",
    "                for sub in subject_list]\n",
    "substitutions.extend(subjFolders)\n",
    "datasink.inputs.substitutions = substitutions"
   ]
  },
  {
   "cell_type": "markdown",
   "metadata": {},
   "source": [
    "## Specify Workflow\n",
    "\n",
    "Create a workflow and connect the interface nodes and the I/O stream to each other."
   ]
  },
  {
   "cell_type": "code",
   "execution_count": null,
   "metadata": {},
   "outputs": [],
   "source": [
    "# Create a preprocessing workflow\n",
    "preproc = Workflow(name='preproc')\n",
    "preproc.base_dir = opj(experiment_dir, working_dir)\n",
    "\n",
    "# Connect all components of the preprocessing workflow\n",
    "preproc.connect([(infosource, selectfiles, [('subject_id', 'subject_id'),\n",
    "                                            ('session_id', 'session_id')]),\n",
    "                 (selectfiles, mcflirt, [('func', 'in_file')]),\n",
    "\n",
    "                 (mcflirt, coreg_step1, [('mean_img', 'in_file')]),\n",
    "                 (selectfiles, coreg_step1, [('anat', 'reference')]),\n",
    "\n",
    "                 (mcflirt, coreg_step2, [('out_file', 'in_file')]),\n",
    "                 (selectfiles, coreg_step2, [('anat', 'reference')]),\n",
    "                 (coreg_step1, coreg_step2, [('out_matrix_file',\n",
    "                                              'in_matrix_file')]),\n",
    "\n",
    "                 (coreg_step2, smooth, [('out_file', 'in_files')]),\n",
    "\n",
    "                 (mcflirt, datasink, [('par_file', 'preproc.@par')]),\n",
    "                 (selectfiles, datasink, [('anat', 'preproc.@resample')]),\n",
    "                 (coreg_step1, datasink, [('out_file', 'preproc.@coregmean')]),\n",
    "                 (smooth, datasink, [('smoothed_files', 'preproc.@smooth')]),\n",
    "                 ])"
   ]
  },
  {
   "cell_type": "markdown",
   "metadata": {},
   "source": [
    "## Visualize the workflow\n",
    "\n",
    "It always helps to visualize your workflow."
   ]
  },
  {
   "cell_type": "code",
   "execution_count": null,
   "metadata": {},
   "outputs": [],
   "source": [
    "# Create preproc output graph\n",
    "preproc.write_graph(graph2use='colored', format='png', simple_form=True)\n",
    "\n",
    "# Visualize the graph\n",
    "from IPython.display import Image\n",
    "Image(filename=opj(preproc.base_dir, 'preproc', 'graph.dot.png'))"
   ]
  },
  {
   "cell_type": "code",
   "execution_count": null,
   "metadata": {},
   "outputs": [],
   "source": [
    "# Visualize the detailed graph\n",
    "preproc.write_graph(graph2use='flat', format='png', simple_form=True)\n",
    "Image(filename=opj(preproc.base_dir, 'preproc', 'graph_detailed.dot.png'))"
   ]
  },
  {
   "cell_type": "markdown",
   "metadata": {},
   "source": [
    "##  Run the Workflow\n",
    "\n",
    "Now that everything is ready, we can run the preprocessing workflow. Change ``n_procs`` to the number of jobs/cores you want to use. **Note** that if  you're using a Docker container and FLIRT fails to run without any good reason, you might need to change memory settings in the Docker preferences (6 GB should be enough for this workflow)."
   ]
  },
  {
   "cell_type": "code",
   "execution_count": null,
   "metadata": {},
   "outputs": [],
   "source": [
    "preproc.run('MultiProc', plugin_args={'n_procs': 20})\n",
    "\n",
    "# !/auto/k1/arash/anaconda2/bin/nipypecli crash /auto/k1/arash/EEE485/Codes/crash-20171202-215020-arash-mcflirt.b1-5cb61df0-9ba1-4683-81bd-4a92f92a3059.pklz"
   ]
  },
  {
   "cell_type": "code",
   "execution_count": null,
   "metadata": {},
   "outputs": [],
   "source": []
  },
  {
   "cell_type": "code",
   "execution_count": null,
   "metadata": {},
   "outputs": [],
   "source": []
  },
  {
   "cell_type": "code",
   "execution_count": null,
   "metadata": {},
   "outputs": [],
   "source": []
  },
  {
   "cell_type": "code",
   "execution_count": null,
   "metadata": {},
   "outputs": [],
   "source": []
  },
  {
   "cell_type": "code",
   "execution_count": null,
   "metadata": {},
   "outputs": [],
   "source": []
  },
  {
   "cell_type": "code",
   "execution_count": null,
   "metadata": {},
   "outputs": [],
   "source": []
  },
  {
   "cell_type": "code",
   "execution_count": null,
   "metadata": {},
   "outputs": [],
   "source": []
  },
  {
   "cell_type": "code",
   "execution_count": null,
   "metadata": {},
   "outputs": [],
   "source": []
  },
  {
   "cell_type": "code",
   "execution_count": null,
   "metadata": {},
   "outputs": [],
   "source": []
  },
  {
   "cell_type": "markdown",
   "metadata": {},
   "source": [
    "# Example 2: 1st-level Analysis\n",
    "\n",
    "In this example we will take the preprocessed output from the first example and run for each subject a 1st-level analysis. For this we need to do the following steps:\n",
    "\n",
    "1. Extract onset times of stimuli from TVA file\n",
    "2. Specify the model (TR, high pass filter, onset times, etc.)\n",
    "3. Specify contrasts to compute\n",
    "4. Estimate contrasts\n",
    "\n",
    "In the previous example, we used two different smoothing kernels of fwhm=4 and fwhm=8. Therefore, let us also run the 1st-level analysis for those two versions.\n",
    "\n",
    "**So, let's begin!**"
   ]
  },
  {
   "cell_type": "markdown",
   "metadata": {},
   "source": [
    "# Imports\n",
    "\n",
    "First, we need to import all modules we later want to use."
   ]
  },
  {
   "cell_type": "code",
   "execution_count": 1,
   "metadata": {},
   "outputs": [
    {
     "name": "stdout",
     "output_type": "stream",
     "text": [
      "Populating the interactive namespace from numpy and matplotlib\n"
     ]
    }
   ],
   "source": [
    "%pylab inline\n",
    "from os.path import join as opj\n",
    "from nipype.interfaces.spm import Level1Design, EstimateModel, EstimateContrast\n",
    "from nipype.algorithms.modelgen import SpecifySPMModel\n",
    "from nipype.interfaces.utility import Function, IdentityInterface\n",
    "from nipype.interfaces.io import SelectFiles, DataSink\n",
    "from nipype.pipeline.engine import Workflow, Node"
   ]
  },
  {
   "cell_type": "markdown",
   "metadata": {},
   "source": [
    "# Specify Nodes\n",
    "\n",
    "Initiate all the different interfaces (represented as nodes) that you want to use in your workflow."
   ]
  },
  {
   "cell_type": "code",
   "execution_count": 55,
   "metadata": {},
   "outputs": [],
   "source": [
    "# SpecifyModel - Generates SPM-specific Model\n",
    "modelspec = Node(SpecifySPMModel(concatenate_runs=False,\n",
    "                                 input_units='secs',\n",
    "                                 output_units='secs',\n",
    "                                 time_repetition=TR,\n",
    "                                 high_pass_filter_cutoff=128),\n",
    "                 name=\"modelspec\")\n",
    "\n",
    "# Level1Design - Generates an SPM design matrix\n",
    "level1design = Node(Level1Design(bases={'hrf': {'derivs': [0, 0]}},\n",
    "                                 timing_units='secs',\n",
    "                                 interscan_interval=TR,\n",
    "                                 model_serial_correlations='AR(1)'),\n",
    "                    name=\"level1design\")\n",
    "\n",
    "# EstimateModel - estimate the parameters of the model\n",
    "level1estimate = Node(EstimateModel(estimation_method={'Classical': 1}),\n",
    "                      name=\"level1estimate\")\n",
    "\n",
    "# EstimateContrast - estimates contrasts\n",
    "level1conest = Node(EstimateContrast(), name=\"level1conest\")"
   ]
  },
  {
   "cell_type": "markdown",
   "metadata": {},
   "source": [
    "# Specify GLM contrasts\n",
    "\n",
    "To do any GLM analysis, we need to also define the contrasts that we want to investigate. If we recap, we had two different conditions in this dataset:\n",
    "\n",
    "- **congruent** - Flanker stimuli: ``< < < < <``\n",
    "- **incongruent** - Flanker stimuli: ``< < > < <``\n",
    "\n",
    "Therefore, we could create the following contrasts:"
   ]
  },
  {
   "cell_type": "code",
   "execution_count": 56,
   "metadata": {},
   "outputs": [],
   "source": [
    "# Condition names\n",
    "condition_names = ['scissors', 'face', 'cat', 'shoe', 'house', 'scrambledpix', 'bottle', 'chair']\n",
    "\n",
    "# Contrasts\n",
    "# cont01 = ['average',        'T', condition_names, [0.5, 0.5]]\n",
    "cont02 = ['face',      'T', condition_names, [0, 1, 0, 0, 0, 0, 0, 0]]\n",
    "# cont03 = ['incongruent',    'T', condition_names, [0, 1]]\n",
    "# cont04 = ['cong > incong',  'T', condition_names, [1, -1]]\n",
    "# cont05 = ['incong > cong',  'T', condition_names, [-1, 1]]\n",
    "\n",
    "# cont06 = ['activation',     'F', [cont02, cont03]]\n",
    "# cont07 = ['differences',    'F', [cont04, cont05]]\n",
    "\n",
    "# contrast_list = [cont01, cont02, cont03, cont04, cont05, cont06, cont07]\n",
    "contrast_list = [cont02]"
   ]
  },
  {
   "cell_type": "markdown",
   "metadata": {},
   "source": [
    "# Specify GLM Model\n",
    "\n",
    "The next step is now to get information such as stimuli onset, duration and other regressors into the GLM model. For this we need to create a helper function, in our case called ``subjectinfo``.\n",
    "\n",
    "To recap, let's see what we have in the TSV file for each run:"
   ]
  },
  {
   "cell_type": "code",
   "execution_count": 57,
   "metadata": {},
   "outputs": [
    {
     "name": "stdout",
     "output_type": "stream",
     "text": [
      "onset\tduration\ttrial_type\r\n",
      "12.000\t0.500\tface\r\n",
      "14.000\t0.500\tface\r\n",
      "16.000\t0.500\tface\r\n",
      "18.000\t0.500\tface\r\n",
      "20.000\t0.500\tface\r\n",
      "22.000\t0.500\tface\r\n",
      "24.000\t0.500\tface\r\n",
      "26.000\t0.500\tface\r\n",
      "28.000\t0.500\tface\r\n",
      "30.000\t0.500\tface\r\n",
      "32.000\t0.500\tface\r\n",
      "34.000\t0.500\tface\r\n",
      "48.000\t0.500\tcat\r\n",
      "50.000\t0.500\tcat\r\n",
      "52.000\t0.500\tcat\r\n",
      "54.000\t0.500\tcat\r\n",
      "56.000\t0.500\tcat\r\n",
      "58.000\t0.500\tcat\r\n",
      "60.000\t0.500\tcat\r\n",
      "62.000\t0.500\tcat\r\n",
      "64.000\t0.500\tcat\r\n",
      "66.000\t0.500\tcat\r\n",
      "68.000\t0.500\tcat\r\n",
      "70.000\t0.500\tcat\r\n",
      "84.000\t0.500\tshoe\r\n",
      "86.000\t0.500\tshoe\r\n",
      "88.000\t0.500\tshoe\r\n",
      "90.000\t0.500\tshoe\r\n",
      "92.000\t0.500\tshoe\r\n",
      "94.000\t0.500\tshoe\r\n",
      "96.000\t0.500\tshoe\r\n",
      "98.000\t0.500\tshoe\r\n",
      "100.000\t0.500\tshoe\r\n",
      "102.000\t0.500\tshoe\r\n",
      "104.000\t0.500\tshoe\r\n",
      "106.000\t0.500\tshoe\r\n",
      "120.000\t0.500\tchair\r\n",
      "122.000\t0.500\tchair\r\n",
      "124.000\t0.500\tchair\r\n",
      "126.000\t0.500\tchair\r\n",
      "128.000\t0.500\tchair\r\n",
      "130.000\t0.500\tchair\r\n",
      "132.000\t0.500\tchair\r\n",
      "134.000\t0.500\tchair\r\n",
      "136.000\t0.500\tchair\r\n",
      "138.000\t0.500\tchair\r\n",
      "140.000\t0.500\tchair\r\n",
      "142.000\t0.500\tchair\r\n",
      "156.000\t0.500\tscissors\r\n",
      "158.000\t0.500\tscissors\r\n",
      "160.000\t0.500\tscissors\r\n",
      "162.000\t0.500\tscissors\r\n",
      "164.000\t0.500\tscissors\r\n",
      "166.000\t0.500\tscissors\r\n",
      "168.000\t0.500\tscissors\r\n",
      "170.000\t0.500\tscissors\r\n",
      "172.000\t0.500\tscissors\r\n",
      "174.000\t0.500\tscissors\r\n",
      "176.000\t0.500\tscissors\r\n",
      "178.000\t0.500\tscissors\r\n",
      "192.000\t0.500\tbottle\r\n",
      "194.000\t0.500\tbottle\r\n",
      "196.000\t0.500\tbottle\r\n",
      "198.000\t0.500\tbottle\r\n",
      "200.000\t0.500\tbottle\r\n",
      "202.000\t0.500\tbottle\r\n",
      "204.000\t0.500\tbottle\r\n",
      "206.000\t0.500\tbottle\r\n",
      "208.000\t0.500\tbottle\r\n",
      "210.000\t0.500\tbottle\r\n",
      "212.000\t0.500\tbottle\r\n",
      "214.000\t0.500\tbottle\r\n",
      "228.000\t0.500\thouse\r\n",
      "230.000\t0.500\thouse\r\n",
      "232.000\t0.500\thouse\r\n",
      "234.000\t0.500\thouse\r\n",
      "236.000\t0.500\thouse\r\n",
      "238.000\t0.500\thouse\r\n",
      "240.000\t0.500\thouse\r\n",
      "242.000\t0.500\thouse\r\n",
      "244.000\t0.500\thouse\r\n",
      "246.000\t0.500\thouse\r\n",
      "248.000\t0.500\thouse\r\n",
      "250.000\t0.500\thouse\r\n",
      "264.000\t0.500\tscrambledpix\r\n",
      "266.000\t0.500\tscrambledpix\r\n",
      "268.000\t0.500\tscrambledpix\r\n",
      "270.000\t0.500\tscrambledpix\r\n",
      "272.000\t0.500\tscrambledpix\r\n",
      "274.000\t0.500\tscrambledpix\r\n",
      "276.000\t0.500\tscrambledpix\r\n",
      "278.000\t0.500\tscrambledpix\r\n",
      "280.000\t0.500\tscrambledpix\r\n",
      "282.000\t0.500\tscrambledpix\r\n",
      "284.000\t0.500\tscrambledpix\r\n",
      "286.000\t0.500\tscrambledpix\r\n"
     ]
    }
   ],
   "source": [
    "!cat ./ds000105/sub-1/func/sub-1_task-objectviewing_run-02_events.tsv"
   ]
  },
  {
   "cell_type": "markdown",
   "metadata": {},
   "source": [
    "So what we need is the onset and the stimuli type, i.e. **column 0** and **column 5 or 7**."
   ]
  },
  {
   "cell_type": "code",
   "execution_count": 58,
   "metadata": {},
   "outputs": [
    {
     "data": {
      "text/plain": [
       "[[12.0, b'scissors'],\n",
       " [14.0, b'scissors'],\n",
       " [16.0, b'scissors'],\n",
       " [18.0, b'scissors'],\n",
       " [20.0, b'scissors'],\n",
       " [22.0, b'scissors'],\n",
       " [24.0, b'scissors'],\n",
       " [26.0, b'scissors'],\n",
       " [28.0, b'scissors'],\n",
       " [30.0, b'scissors'],\n",
       " [32.0, b'scissors'],\n",
       " [34.0, b'scissors'],\n",
       " [48.0, b'face'],\n",
       " [50.0, b'face'],\n",
       " [52.0, b'face'],\n",
       " [54.0, b'face'],\n",
       " [56.0, b'face'],\n",
       " [58.0, b'face'],\n",
       " [60.0, b'face'],\n",
       " [62.0, b'face'],\n",
       " [64.0, b'face'],\n",
       " [66.0, b'face'],\n",
       " [68.0, b'face'],\n",
       " [70.0, b'face'],\n",
       " [84.0, b'cat'],\n",
       " [86.0, b'cat'],\n",
       " [88.0, b'cat'],\n",
       " [90.0, b'cat'],\n",
       " [92.0, b'cat'],\n",
       " [94.0, b'cat'],\n",
       " [96.0, b'cat'],\n",
       " [98.0, b'cat'],\n",
       " [100.0, b'cat'],\n",
       " [102.0, b'cat'],\n",
       " [104.0, b'cat'],\n",
       " [106.0, b'cat'],\n",
       " [120.0, b'shoe'],\n",
       " [122.0, b'shoe'],\n",
       " [124.0, b'shoe'],\n",
       " [126.0, b'shoe'],\n",
       " [128.0, b'shoe'],\n",
       " [130.0, b'shoe'],\n",
       " [132.0, b'shoe'],\n",
       " [134.0, b'shoe'],\n",
       " [136.0, b'shoe'],\n",
       " [138.0, b'shoe'],\n",
       " [140.0, b'shoe'],\n",
       " [142.0, b'shoe'],\n",
       " [156.0, b'house'],\n",
       " [158.0, b'house'],\n",
       " [160.0, b'house'],\n",
       " [162.0, b'house'],\n",
       " [164.0, b'house'],\n",
       " [166.0, b'house'],\n",
       " [168.0, b'house'],\n",
       " [170.0, b'house'],\n",
       " [172.0, b'house'],\n",
       " [174.0, b'house'],\n",
       " [176.0, b'house'],\n",
       " [178.0, b'house'],\n",
       " [192.0, b'scrambledpix'],\n",
       " [194.0, b'scrambledpix'],\n",
       " [196.0, b'scrambledpix'],\n",
       " [198.0, b'scrambledpix'],\n",
       " [200.0, b'scrambledpix'],\n",
       " [202.0, b'scrambledpix'],\n",
       " [204.0, b'scrambledpix'],\n",
       " [206.0, b'scrambledpix'],\n",
       " [208.0, b'scrambledpix'],\n",
       " [210.0, b'scrambledpix'],\n",
       " [212.0, b'scrambledpix'],\n",
       " [214.0, b'scrambledpix'],\n",
       " [228.0, b'bottle'],\n",
       " [230.0, b'bottle'],\n",
       " [232.0, b'bottle'],\n",
       " [234.0, b'bottle'],\n",
       " [236.0, b'bottle'],\n",
       " [238.0, b'bottle'],\n",
       " [240.0, b'bottle'],\n",
       " [242.0, b'bottle'],\n",
       " [244.0, b'bottle'],\n",
       " [246.0, b'bottle'],\n",
       " [248.0, b'bottle'],\n",
       " [250.0, b'bottle'],\n",
       " [264.0, b'chair'],\n",
       " [266.0, b'chair'],\n",
       " [268.0, b'chair'],\n",
       " [270.0, b'chair'],\n",
       " [272.0, b'chair'],\n",
       " [274.0, b'chair'],\n",
       " [276.0, b'chair'],\n",
       " [278.0, b'chair'],\n",
       " [280.0, b'chair'],\n",
       " [282.0, b'chair'],\n",
       " [284.0, b'chair'],\n",
       " [286.0, b'chair']]"
      ]
     },
     "execution_count": 58,
     "metadata": {},
     "output_type": "execute_result"
    }
   ],
   "source": [
    "filename = './ds000105/sub-1/func/sub-1_task-objectviewing_run-01_events.tsv'\n",
    "trailinfo = np.genfromtxt(filename, delimiter='\\t', dtype=None, skip_header=1)\n",
    "trailinfo = [[t[0], t[2]] for t in trailinfo]\n",
    "trailinfo"
   ]
  },
  {
   "cell_type": "markdown",
   "metadata": {},
   "source": [
    "And finally we need to separate the onsets of the two stimuli. This can be done as follows:"
   ]
  },
  {
   "cell_type": "code",
   "execution_count": 59,
   "metadata": {},
   "outputs": [
    {
     "name": "stdout",
     "output_type": "stream",
     "text": [
      "[12.0, 14.0, 16.0, 18.0, 20.0, 22.0, 24.0, 26.0, 28.0, 30.0, 32.0, 34.0]\n",
      "[48.0, 50.0, 52.0, 54.0, 56.0, 58.0, 60.0, 62.0, 64.0, 66.0, 68.0, 70.0]\n",
      "[84.0, 86.0, 88.0, 90.0, 92.0, 94.0, 96.0, 98.0, 100.0, 102.0, 104.0, 106.0]\n",
      "[120.0, 122.0, 124.0, 126.0, 128.0, 130.0, 132.0, 134.0, 136.0, 138.0, 140.0, 142.0]\n",
      "[156.0, 158.0, 160.0, 162.0, 164.0, 166.0, 168.0, 170.0, 172.0, 174.0, 176.0, 178.0]\n",
      "[192.0, 194.0, 196.0, 198.0, 200.0, 202.0, 204.0, 206.0, 208.0, 210.0, 212.0, 214.0]\n",
      "[228.0, 230.0, 232.0, 234.0, 236.0, 238.0, 240.0, 242.0, 244.0, 246.0, 248.0, 250.0]\n",
      "[12.0, 14.0, 16.0, 18.0, 20.0, 22.0, 24.0, 26.0, 28.0, 30.0, 32.0, 34.0, 48.0, 50.0, 52.0, 54.0, 56.0, 58.0, 60.0, 62.0, 64.0, 66.0, 68.0, 70.0, 84.0, 86.0, 88.0, 90.0, 92.0, 94.0, 96.0, 98.0, 100.0, 102.0, 104.0, 106.0, 120.0, 122.0, 124.0, 126.0, 128.0, 130.0, 132.0, 134.0, 136.0, 138.0, 140.0, 142.0, 156.0, 158.0, 160.0, 162.0, 164.0, 166.0, 168.0, 170.0, 172.0, 174.0, 176.0, 178.0, 192.0, 194.0, 196.0, 198.0, 200.0, 202.0, 204.0, 206.0, 208.0, 210.0, 212.0, 214.0, 264.0, 266.0, 268.0, 270.0, 272.0, 274.0, 276.0, 278.0, 280.0, 282.0, 284.0, 286.0]\n"
     ]
    }
   ],
   "source": [
    "onset1 = []\n",
    "onset2 = []\n",
    "onset3 = []\n",
    "onset4 = []\n",
    "onset5 = []\n",
    "onset6 = []\n",
    "onset7 = []\n",
    "onset8 = []\n",
    "\n",
    "for t in trailinfo:\n",
    "    if b'scissors' in t[1]:\n",
    "        onset1.append(t[0])\n",
    "    if b'face' in t[1]:\n",
    "        onset2.append(t[0])\n",
    "    if b'cat' in t[1]:\n",
    "        onset3.append(t[0])\n",
    "    if b'shoe' in t[1]:\n",
    "        onset4.append(t[0])\n",
    "    if b'house' in t[1]:\n",
    "        onset5.append(t[0])\n",
    "    if b'scrambledpix' in t[1]:\n",
    "        onset6.append(t[0])\n",
    "    if b'bottle' in t[1]:\n",
    "        onset7.append(t[0])\n",
    "    else:\n",
    "        onset8.append(t[0])\n",
    "\n",
    "print(onset1)\n",
    "print(onset2)\n",
    "print(onset3)\n",
    "print(onset4)\n",
    "print(onset5)\n",
    "print(onset6)\n",
    "print(onset7)\n",
    "print(onset8)"
   ]
  },
  {
   "cell_type": "markdown",
   "metadata": {},
   "source": [
    "Now, let us incorporate all this in the helper function subjectinfo."
   ]
  },
  {
   "cell_type": "code",
   "execution_count": 61,
   "metadata": {},
   "outputs": [],
   "source": [
    "def subjectinfo(subject_id):\n",
    "\n",
    "    import numpy as np\n",
    "    from os.path import join as opj\n",
    "    from nipype.interfaces.base import Bunch\n",
    "\n",
    "    condition_names = ['scissors', 'face', 'cat', 'shoe', 'house', 'scrambledpix', 'bottle', 'chair']\n",
    "\n",
    "    logfile_dir = opj('/data', 'ds000105', subject_id, 'func')\n",
    "\n",
    "    for sess in ['run-01', 'run-02', 'run-03', 'run-04',\n",
    "                 'run-05', 'run-06', 'run-07', 'run-08',\n",
    "                 'run-09', 'run-10', 'run-11', 'run-12']:\n",
    "\n",
    "        # Read the TSV file\n",
    "        filename = opj(logfile_dir,\n",
    "                       '%s_task-objectviewing_%s_events.tsv' % (subject_id, sess))\n",
    "\n",
    "        # Save relevant information\n",
    "        trailinfo = np.genfromtxt(filename, delimiter='\\t',\n",
    "                                  dtype=None, skip_header=1)\n",
    "        trailinfo = [[t[0], t[2]] for t in trailinfo]\n",
    "\n",
    "        # Separate onset of conditions\n",
    "        onset1 = []\n",
    "        onset2 = []\n",
    "        onset3 = []\n",
    "        onset4 = []\n",
    "        onset5 = []\n",
    "        onset6 = []\n",
    "        onset7 = []\n",
    "        onset8 = []\n",
    "\n",
    "        for t in trailinfo:\n",
    "            if b'scissors' in t[1]:\n",
    "                onset1.append(t[0])\n",
    "            if b'face' in t[1]:\n",
    "                onset2.append(t[0])\n",
    "            if b'cat' in t[1]:\n",
    "                onset3.append(t[0])\n",
    "            if b'shoe' in t[1]:\n",
    "                onset4.append(t[0])\n",
    "            if b'house' in t[1]:\n",
    "                onset5.append(t[0])\n",
    "            if b'scrambledpix' in t[1]:\n",
    "                onset6.append(t[0])\n",
    "            if b'bottle' in t[1]:\n",
    "                onset7.append(t[0])\n",
    "            else:\n",
    "                onset8.append(t[0])\n",
    "\n",
    "        # Save values per session\n",
    "        onsets = [onset1, onset2, onset3, onset4, onset5, onset6, onset7, onset8]\n",
    "        if sess == 'run-01':\n",
    "            run1 = onsets\n",
    "        elif sess == 'run-02':\n",
    "            run2 = onsets\n",
    "        elif sess == 'run-03':\n",
    "            run3 = onsets\n",
    "        elif sess == 'run-04':\n",
    "            run4 = onsets\n",
    "        elif sess == 'run-05':\n",
    "            run5 = onsets\n",
    "        elif sess == 'run-06':\n",
    "            run6 = onsets\n",
    "        elif sess == 'run-07':\n",
    "            run7 = onsets\n",
    "        elif sess == 'run-08':\n",
    "            run8 = onsets\n",
    "        elif sess == 'run-09':\n",
    "            run9 = onsets\n",
    "        elif sess == 'run-10':\n",
    "            run10 = onsets\n",
    "        elif sess == 'run-11':\n",
    "            run11 = onsets\n",
    "        elif sess == 'run-12':\n",
    "            run12 = onsets\n",
    "\n",
    "    subjectinfo = []\n",
    "    for r in range(12):\n",
    "        if r == 0:\n",
    "            onsetTimes = run1\n",
    "        elif r == 1:\n",
    "            onsetTimes = run2\n",
    "        elif r == 2:\n",
    "            onsetTimes = run3\n",
    "        elif r == 3:\n",
    "            onsetTimes = run4\n",
    "        elif r == 4:\n",
    "            onsetTimes = run5\n",
    "        elif r == 5:\n",
    "            onsetTimes = run6\n",
    "        elif r == 6:\n",
    "            onsetTimes = run7\n",
    "        elif r == 7:\n",
    "            onsetTimes = run8\n",
    "        elif r == 8:\n",
    "            onsetTimes = run9\n",
    "        elif r == 9:\n",
    "            onsetTimes = run9\n",
    "        elif r == 10:\n",
    "            onsetTimes = run10\n",
    "        elif r == 11:\n",
    "            onsetTimes = run11\n",
    "        elif r == 12:\n",
    "            onsetTimes = run12\n",
    "            \n",
    "        subjectinfo.insert(r,\n",
    "                       Bunch(conditions=condition_names,\n",
    "                             onsets=onsetTimes,\n",
    "                             durations=[[0.5], [0.5], [0.5], [0.5], [0.5], [0.5], [0.5], [0.5]],\n",
    "                             amplitudes=None,\n",
    "                             tmod=None,\n",
    "                             pmod=None,\n",
    "                             regressor_names=None,\n",
    "                             regressors=None))\n",
    "\n",
    "    return subjectinfo  # this output will later be returned to infosource\n",
    "\n",
    "# Get Subject Info - get subject specific condition information\n",
    "getsubjectinfo = Node(Function(input_names=['subject_id'],\n",
    "                               output_names=['subject_info'],\n",
    "                               function=subjectinfo),\n",
    "                      name='getsubjectinfo')"
   ]
  },
  {
   "cell_type": "markdown",
   "metadata": {},
   "source": [
    "# Specify input & output stream\n",
    "\n",
    "Specify where the input data can be found & where and how to save the output data."
   ]
  },
  {
   "cell_type": "code",
   "execution_count": 62,
   "metadata": {},
   "outputs": [],
   "source": [
    "\n",
    "\n",
    "# Infosource - a function free node to iterate over the list of subject names\n",
    "infosource = Node(IdentityInterface(fields=['subject_id',\n",
    "                                            'fwhm_id',\n",
    "                                            'contrasts'],\n",
    "                                    contrasts=contrast_list),\n",
    "                  name=\"infosource\")\n",
    "infosource.iterables = [('subject_id', subject_list),\n",
    "                        ('fwhm_id', fwhm)]\n",
    "\n",
    "# SelectFiles - to grab the data (alternativ to DataGrabber)\n",
    "templates = {'func': opj(output_dir, 'preproc', '{subject_id}',\n",
    "                         'run-*_fwhm_{fwhm_id}', 's_bold_mcf_flirt.nii'),\n",
    "             'mc_param': opj(output_dir, 'preproc', '{subject_id}',\n",
    "                             'run-*_bold_mcf.par')}\n",
    "selectfiles = Node(SelectFiles(templates,\n",
    "                               base_directory=experiment_dir,\n",
    "                               sort_filelist=True),\n",
    "                   name=\"selectfiles\")\n",
    "\n",
    "# Datasink - creates output folder for important outputs\n",
    "datasink = Node(DataSink(base_directory=experiment_dir,\n",
    "                         container=output_dir),\n",
    "                name=\"datasink\")\n",
    "\n",
    "# Use the following DataSink output substitutions\n",
    "substitutions = [('_subject_id_', '')]\n",
    "subjFolders = [('_fwhm_id_%s%s' % (f, sub), '%s_fwhm%s' % (sub, f))\n",
    "               for f in fwhm\n",
    "               for sub in subject_list]\n",
    "substitutions.extend(subjFolders)\n",
    "datasink.inputs.substitutions = substitutions"
   ]
  },
  {
   "cell_type": "markdown",
   "metadata": {},
   "source": [
    "## Specify Workflow\n",
    "\n",
    "Create a workflow and connect the interface nodes and the I/O stream to each other."
   ]
  },
  {
   "cell_type": "code",
   "execution_count": 63,
   "metadata": {},
   "outputs": [],
   "source": [
    "# Initiation of the 1st-level analysis workflow\n",
    "l1analysis = Workflow(name='l1analysis')\n",
    "l1analysis.base_dir = opj(experiment_dir, working_dir)\n",
    "\n",
    "# Connect up the 1st-level analysis components\n",
    "l1analysis.connect([(infosource, selectfiles, [('subject_id', 'subject_id'),\n",
    "                                               ('fwhm_id', 'fwhm_id')]),\n",
    "                    (infosource, getsubjectinfo, [('subject_id',\n",
    "                                                   'subject_id')]),\n",
    "                    (getsubjectinfo, modelspec, [('subject_info',\n",
    "                                                  'subject_info')]),\n",
    "                    (infosource, level1conest, [('contrasts', 'contrasts')]),\n",
    "                    (selectfiles, modelspec, [('func', 'functional_runs')]),\n",
    "                    (selectfiles, modelspec, [('mc_param',\n",
    "                                               'realignment_parameters')]),\n",
    "                    (modelspec, level1design, [('session_info',\n",
    "                                                'session_info')]),\n",
    "                    (level1design, level1estimate, [('spm_mat_file',\n",
    "                                                     'spm_mat_file')]),\n",
    "                    (level1estimate, level1conest, [('spm_mat_file',\n",
    "                                                     'spm_mat_file'),\n",
    "                                                    ('beta_images',\n",
    "                                                     'beta_images'),\n",
    "                                                    ('residual_image',\n",
    "                                                     'residual_image')]),\n",
    "                    (level1conest, datasink, [('spm_mat_file',\n",
    "                                               '1stLevel.@spm_mat'),\n",
    "                                              ('spmT_images', '1stLevel.@T'),\n",
    "                                              ('con_images', '1stLevel.@con'),\n",
    "                                              ('spmF_images', '1stLevel.@F'),\n",
    "                                              ('ess_images', '1stLevel.@ess'),\n",
    "                                              ]),\n",
    "                    ])"
   ]
  },
  {
   "cell_type": "markdown",
   "metadata": {},
   "source": [
    "## Visualize the workflow\n",
    "\n",
    "It always helps to visualize your workflow."
   ]
  },
  {
   "cell_type": "code",
   "execution_count": 64,
   "metadata": {},
   "outputs": [
    {
     "name": "stdout",
     "output_type": "stream",
     "text": [
      "171202-15:16:51,796 workflow INFO:\n",
      "\t Generated workflow graph: /output/workingdir/l1analysis/graph.dot.png (graph2use=colored, simple_form=True).\n"
     ]
    },
    {
     "data": {
      "image/png": "[encoded data removed]",
      "text/plain": [
       "<IPython.core.display.Image object>"
      ]
     },
     "execution_count": 64,
     "metadata": {},
     "output_type": "execute_result"
    }
   ],
   "source": [
    "# Create 1st-level analysis output graph\n",
    "l1analysis.write_graph(graph2use='colored', format='png', simple_form=True)\n",
    "\n",
    "# Visualize the graph\n",
    "from IPython.display import Image\n",
    "Image(filename=opj(l1analysis.base_dir, 'l1analysis', 'graph.dot.png'))"
   ]
  },
  {
   "cell_type": "markdown",
   "metadata": {},
   "source": [
    "##  Run the Workflow\n",
    "\n",
    "Now that everything is ready, we can run the 1st-level analysis workflow. Change ``n_procs`` to the number of jobs/cores you want to use."
   ]
  },
  {
   "cell_type": "code",
   "execution_count": 24,
   "metadata": {},
   "outputs": [
    {
     "name": "stdout",
     "output_type": "stream",
     "text": [
      "/bin/sh: 1: nipypecli: not found\r\n"
     ]
    }
   ],
   "source": [
    "# l1analysis.run()\n",
    "\n",
    "!nipypecli crash /home/neuro/nipype_tutorial/crash-20171202-152205-neuro-selectfiles.a1-bf392c9d-cff8-415a-8259-222070927eba.pklz"
   ]
  },
  {
   "cell_type": "code",
   "execution_count": null,
   "metadata": {},
   "outputs": [],
   "source": []
  }
 ],
 "metadata": {
  "anaconda-cloud": {},
  "kernelspec": {
   "display_name": "Python 2",
   "language": "python",
   "name": "python2"
  },
  "language_info": {
   "codemirror_mode": {
    "name": "ipython",
    "version": 2
   },
   "file_extension": ".py",
   "mimetype": "text/x-python",
   "name": "python",
   "nbconvert_exporter": "python",
   "pygments_lexer": "ipython2",
   "version": "2.7.14"
  }
 },
 "nbformat": 4,
 "nbformat_minor": 1
}
